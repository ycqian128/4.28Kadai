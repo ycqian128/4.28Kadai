{
 "cells": [
  {
   "cell_type": "code",
   "execution_count": 1,
   "metadata": {
    "collapsed": true
   },
   "outputs": [],
   "source": [
    "%matplotlib inline\n",
    "import matplotlib.pyplot as plt\n",
    "from IPython import display\n",
    "import time\n",
    "import os\n",
    "\n",
    "# proxyの設定．\n",
    "# keras.datasetsでは，datasetを直接ダウンロードするので，学内マシンからは通常必要．\n",
    "os.environ[\"http_proxy\"] = \"http://proxy.uec.ac.jp:8080/\"\n",
    "os.environ[\"https_proxy\"] = \"http://proxy.uec.ac.jp:8080/\"\n",
    "os.environ[\"CUDA_VISIBLE_DEVICES\"] = \"0\"      # \"0\":GPU0, \"1\":GPU1, \"0,1\":GPUを2つとも使用\n",
    "\n",
    "import numpy as np\n",
    "import torch\n",
    "import torchvision\n",
    "import torch.nn as nn\n",
    "import torch.optim as optim\n",
    "import torch.nn.functional as F"
   ]
  },
  {
   "cell_type": "code",
   "execution_count": 2,
   "metadata": {},
   "outputs": [],
   "source": [
    "#googlenetの最後三つのavgpool,dropout,fcレイヤーの削除方法を見つからないため、vgg19を使う\n",
    "import torchvision.models as models\n",
    "from PIL import Image\n",
    "import torchvision.transforms as transforms\n",
    "import torch\n",
    "\n",
    "from misc_functions import get_example_params, convert_to_grayscale, save_gradient_images"
   ]
  },
  {
   "cell_type": "code",
   "execution_count": 34,
   "metadata": {
    "collapsed": true
   },
   "outputs": [],
   "source": [
    "import os\n",
    "from PIL import Image\n",
    "\n",
    "import torch\n",
    "from torch.optim import SGD\n",
    "from torchvision import models\n",
    "\n",
    "from misc_functions import preprocess_image, recreate_image, save_image\n",
    "\n",
    "\n",
    "class DeepDream():\n",
    "    \"\"\"\n",
    "        Produces an image that minimizes the loss of a convolution\n",
    "        operation for a specific layer and filter\n",
    "    \"\"\"\n",
    "    def __init__(self, model, selected_layer, selected_filter, im_path):\n",
    "        self.model = model\n",
    "        self.model.eval()\n",
    "        self.selected_layer = selected_layer\n",
    "        self.selected_filter = selected_filter\n",
    "        self.conv_output = 0\n",
    "        # Generate a random image\n",
    "        self.created_image = Image.open(im_path).convert('RGB')\n",
    "        # Hook the layers to get result of the convolution\n",
    "        self.hook_layer()\n",
    "        # Create the folder to export images if not exists\n",
    "        if not os.path.exists('generated'):\n",
    "            os.makedirs('generated')\n",
    "\n",
    "    def hook_layer(self):\n",
    "        def hook_function(module, grad_in, grad_out):\n",
    "            # Gets the conv output of the selected filter (from selected layer)\n",
    "            self.conv_output = grad_out[0, self.selected_filter]\n",
    "\n",
    "        # Hook the selected layer\n",
    "        self.model[self.selected_layer].register_forward_hook(hook_function)\n",
    "\n",
    "    def dream(self):\n",
    "        # Process image and return variable\n",
    "        self.processed_image = preprocess_image(self.created_image, False)\n",
    "        # Define optimizer for the image\n",
    "        # Earlier layers need higher learning rates to visualize whereas layer layers need less\n",
    "        optimizer = SGD([self.processed_image], lr=12,  weight_decay=1e-4)\n",
    "        for i in range(1, 551):\n",
    "            optimizer.zero_grad()\n",
    "            # Assign create image to a variable to move forward in the model\n",
    "            x = self.processed_image\n",
    "            x = x.cuda()\n",
    "            for index, layer in enumerate(self.model):\n",
    "                # Forward\n",
    "                x = layer(x)\n",
    "                # Only need to forward until we the selected layer is reached\n",
    "                if index == self.selected_layer:\n",
    "                    break\n",
    "            # Loss function is the mean of the output of the selected layer/filter\n",
    "            # We try to minimize the mean of the output of that specific filter\n",
    "            loss = -torch.mean(self.conv_output)\n",
    "            if i % 50 == 0:\n",
    "                print('Iteration:', str(i), 'Loss:', \"{0:.2f}\".format(loss.data.cpu().numpy()))\n",
    "            # Backward\n",
    "            loss.backward()\n",
    "            # Update image\n",
    "            optimizer.step()\n",
    "            # Recreate image\n",
    "            self.created_image = recreate_image(self.processed_image)\n",
    "            # Save image every 20 iteration\n",
    "            if i % 50 == 0:\n",
    "                print(self.created_image.shape)\n",
    "                im_path = 'generated/' + 'fish_iter' + str(i) + '.jpg'\n",
    "                save_image(self.created_image, im_path)\n"
   ]
  },
  {
   "cell_type": "code",
   "execution_count": 35,
   "metadata": {},
   "outputs": [
    {
     "name": "stdout",
     "output_type": "stream",
     "text": [
      "Iteration: 50 Loss: -38.22\n",
      "(650, 980, 3)\n",
      "Iteration: 100 Loss: -72.91\n",
      "(650, 980, 3)\n",
      "Iteration: 150 Loss: -99.46\n",
      "(650, 980, 3)\n",
      "Iteration: 200 Loss: -121.35\n",
      "(650, 980, 3)\n",
      "Iteration: 250 Loss: -140.38\n",
      "(650, 980, 3)\n",
      "Iteration: 300 Loss: -157.55\n",
      "(650, 980, 3)\n",
      "Iteration: 350 Loss: -173.55\n",
      "(650, 980, 3)\n",
      "Iteration: 400 Loss: -188.68\n",
      "(650, 980, 3)\n",
      "Iteration: 450 Loss: -203.08\n",
      "(650, 980, 3)\n",
      "Iteration: 500 Loss: -216.85\n",
      "(650, 980, 3)\n",
      "Iteration: 550 Loss: -230.03\n",
      "(650, 980, 3)\n"
     ]
    }
   ],
   "source": [
    "cnn_layer = 34\n",
    "filter_pos = 284\n",
    "\n",
    "im_path = 'goldfish.jpg'\n",
    "# Fully connected layer is not needed\n",
    "pretrained_model = models.vgg19(pretrained=True).features\n",
    "pretrained_model = pretrained_model.cuda()\n",
    "dd = DeepDream(pretrained_model, cnn_layer, filter_pos, im_path)\n",
    "# This operation can also be done without Pytorch hooks\n",
    "# See layer visualisation for the implementation without hooks\n",
    "dd.dream()"
   ]
  },
  {
   "cell_type": "code",
   "execution_count": null,
   "metadata": {
    "collapsed": true
   },
   "outputs": [],
   "source": []
  }
 ],
 "metadata": {
  "kernelspec": {
   "display_name": "Python 3 (Anaconda)",
   "language": "python",
   "name": "python3_anaconda"
  },
  "language_info": {
   "codemirror_mode": {
    "name": "ipython",
    "version": 3
   },
   "file_extension": ".py",
   "mimetype": "text/x-python",
   "name": "python",
   "nbconvert_exporter": "python",
   "pygments_lexer": "ipython3",
   "version": "3.6.9"
  }
 },
 "nbformat": 4,
 "nbformat_minor": 2
}
